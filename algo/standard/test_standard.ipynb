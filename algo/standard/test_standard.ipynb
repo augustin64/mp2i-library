{
 "cells": [
  {
   "cell_type": "code",
   "execution_count": 25,
   "id": "afbe667a-804f-41e5-bf9c-8641935552af",
   "metadata": {},
   "outputs": [
    {
     "name": "stdout",
     "output_type": "stream",
     "text": [
      "val swap : 'a ref -> 'a ref -> unit = <fun>\n",
      "val fact : int -> int = <fun>\n",
      "val sum : int -> int = <fun>\n",
      "val prime : int -> bool = <fun>\n",
      "val pgcd : int -> int -> int = <fun>\n",
      "val exp_rapide : int -> int -> int = <fun>\n",
      "val range : int -> int list = <fun>\n"
     ]
    }
   ],
   "source": [
    "#use \"standard.ml\""
   ]
  },
  {
   "cell_type": "code",
   "execution_count": 26,
   "id": "fa0e3bf4-435a-4744-8fa7-6132d963c238",
   "metadata": {},
   "outputs": [
    {
     "data": {
      "text/plain": [
       "- : int * int = (4, 5)\n"
      ]
     },
     "execution_count": 26,
     "metadata": {},
     "output_type": "execute_result"
    }
   ],
   "source": [
    "let a = ref 5 in\n",
    "let b = ref 4 in\n",
    "swap a b;\n",
    "!a, !b;;"
   ]
  },
  {
   "cell_type": "code",
   "execution_count": 27,
   "id": "b96cefca-f54b-4f79-b701-ee6a874645e1",
   "metadata": {},
   "outputs": [
    {
     "data": {
      "text/plain": [
       "- : int = 120\n"
      ]
     },
     "execution_count": 27,
     "metadata": {},
     "output_type": "execute_result"
    }
   ],
   "source": [
    "fact 5;; (* 5 * 4 * 3 * 2 * 1 = 120 *)"
   ]
  },
  {
   "cell_type": "code",
   "execution_count": 28,
   "id": "711210c9-de12-448b-9795-58eedf7e3fd6",
   "metadata": {},
   "outputs": [
    {
     "data": {
      "text/plain": [
       "- : int = 6\n"
      ]
     },
     "execution_count": 28,
     "metadata": {},
     "output_type": "execute_result"
    }
   ],
   "source": [
    "sum 3;; (* 1 + 2 + 3 = 6 *)"
   ]
  },
  {
   "cell_type": "code",
   "execution_count": 29,
   "id": "b1e50204-5242-4860-974a-8288f99f4a04",
   "metadata": {},
   "outputs": [
    {
     "data": {
      "text/plain": [
       "- : bool = true\n"
      ]
     },
     "execution_count": 29,
     "metadata": {},
     "output_type": "execute_result"
    }
   ],
   "source": [
    "prime 7;;"
   ]
  },
  {
   "cell_type": "code",
   "execution_count": 30,
   "id": "a1026a5b-7bf4-4f61-a441-0417f923ab6b",
   "metadata": {},
   "outputs": [
    {
     "data": {
      "text/plain": [
       "- : bool = false\n"
      ]
     },
     "execution_count": 30,
     "metadata": {},
     "output_type": "execute_result"
    }
   ],
   "source": [
    "prime 6;;"
   ]
  },
  {
   "cell_type": "code",
   "execution_count": 37,
   "id": "7459905a-de1c-4042-a3f7-5e2d22451088",
   "metadata": {},
   "outputs": [
    {
     "data": {
      "text/plain": [
       "- : int = 2\n"
      ]
     },
     "execution_count": 37,
     "metadata": {},
     "output_type": "execute_result"
    }
   ],
   "source": [
    "pgcd 12 26;;"
   ]
  },
  {
   "cell_type": "code",
   "execution_count": 39,
   "id": "9ec7b46d-e640-491d-9eed-e06662efae27",
   "metadata": {},
   "outputs": [
    {
     "data": {
      "text/plain": [
       "- : int = 64\n"
      ]
     },
     "execution_count": 39,
     "metadata": {},
     "output_type": "execute_result"
    }
   ],
   "source": [
    "exp_rapide 4 3;;"
   ]
  },
  {
   "cell_type": "code",
   "execution_count": 40,
   "id": "d79abd83-8580-4756-b5b6-71155f68b644",
   "metadata": {},
   "outputs": [
    {
     "data": {
      "text/plain": [
       "- : int list = [8; 7; 6; 5; 4; 3; 2; 1; 0]\n"
      ]
     },
     "execution_count": 40,
     "metadata": {},
     "output_type": "execute_result"
    }
   ],
   "source": [
    "range 8;;"
   ]
  }
 ],
 "metadata": {
  "kernelspec": {
   "display_name": "OCaml default",
   "language": "OCaml",
   "name": "ocaml-jupyter"
  },
  "language_info": {
   "codemirror_mode": "text/x-ocaml",
   "file_extension": ".ml",
   "mimetype": "text/x-ocaml",
   "name": "OCaml",
   "nbconverter_exporter": null,
   "pygments_lexer": "OCaml",
   "version": "4.08.1"
  }
 },
 "nbformat": 4,
 "nbformat_minor": 5
}
