{
 "cells": [
  {
   "cell_type": "code",
<<<<<<< HEAD
   "execution_count": 104,
   "metadata": {
    "tags": []
   },
=======
   "execution_count": 13,
   "metadata": {},
>>>>>>> 66ea5c17a9bca7f229fefa0f52759acdb609e4ca
   "outputs": [
    {
     "name": "stdout",
     "output_type": "stream",
     "text": [
      "val _swap : 'a array -> int -> int -> unit = <fun>\n",
      "val sort_bubble : 'a array -> unit = <fun>\n",
      "val _split : 'a list -> 'a list * 'a list = <fun>\n",
      "val _fusion : 'a list -> 'a list -> 'a list = <fun>\n",
      "val fusion_sort : 'a list -> 'a list = <fun>\n",
<<<<<<< HEAD
      "val _concat : 'a list -> 'a list -> 'a list = <fun>\n",
      "val _partition : 'a -> 'a list -> 'a list * 'a list = <fun>\n",
      "val quicksort : 'a list -> 'a list = <fun>\n"
=======
      "val _maximum : 'a array -> 'a = <fun>\n",
      "val tri_comptage : int array -> unit = <fun>\n"
>>>>>>> 66ea5c17a9bca7f229fefa0f52759acdb609e4ca
     ]
    }
   ],
   "source": [
    "#use \"sort.ml\""
   ]
  },
  {
   "cell_type": "code",
<<<<<<< HEAD
   "execution_count": 105,
=======
   "execution_count": 14,
>>>>>>> 66ea5c17a9bca7f229fefa0f52759acdb609e4ca
   "metadata": {},
   "outputs": [
    {
     "data": {
      "text/plain": [
       "val t : int array = [|4; 1; -5; 0; 7|]\n"
      ]
     },
<<<<<<< HEAD
     "execution_count": 105,
=======
     "execution_count": 14,
>>>>>>> 66ea5c17a9bca7f229fefa0f52759acdb609e4ca
     "metadata": {},
     "output_type": "execute_result"
    }
   ],
   "source": [
    "let t = [|4; 1; -5; 0; 7|]"
   ]
  },
  {
   "cell_type": "code",
<<<<<<< HEAD
   "execution_count": 106,
=======
   "execution_count": 15,
>>>>>>> 66ea5c17a9bca7f229fefa0f52759acdb609e4ca
   "metadata": {},
   "outputs": [
    {
     "data": {
      "text/plain": [
       "- : unit = ()\n"
      ]
     },
<<<<<<< HEAD
     "execution_count": 106,
=======
     "execution_count": 15,
>>>>>>> 66ea5c17a9bca7f229fefa0f52759acdb609e4ca
     "metadata": {},
     "output_type": "execute_result"
    }
   ],
   "source": [
    "sort_bubble t"
   ]
  },
  {
   "cell_type": "code",
<<<<<<< HEAD
   "execution_count": 107,
=======
   "execution_count": 16,
>>>>>>> 66ea5c17a9bca7f229fefa0f52759acdb609e4ca
   "metadata": {},
   "outputs": [
    {
     "data": {
      "text/plain": [
       "- : int array = [|-5; 0; 1; 4; 7|]\n"
      ]
     },
<<<<<<< HEAD
     "execution_count": 107,
=======
     "execution_count": 16,
>>>>>>> 66ea5c17a9bca7f229fefa0f52759acdb609e4ca
     "metadata": {},
     "output_type": "execute_result"
    }
   ],
   "source": [
    "t"
   ]
  },
  {
   "cell_type": "code",
<<<<<<< HEAD
   "execution_count": 108,
=======
   "execution_count": 17,
>>>>>>> 66ea5c17a9bca7f229fefa0f52759acdb609e4ca
   "metadata": {},
   "outputs": [
    {
     "data": {
      "text/plain": [
       "- : int list = [1; 2; 4; 3; 5; 6]\n"
      ]
     },
<<<<<<< HEAD
     "execution_count": 108,
=======
     "execution_count": 17,
>>>>>>> 66ea5c17a9bca7f229fefa0f52759acdb609e4ca
     "metadata": {},
     "output_type": "execute_result"
    }
   ],
   "source": [
    "_fusion [1; 4; 3] [2; 5; 6]"
   ]
  },
  {
   "cell_type": "code",
<<<<<<< HEAD
   "execution_count": 109,
=======
   "execution_count": 18,
>>>>>>> 66ea5c17a9bca7f229fefa0f52759acdb609e4ca
   "metadata": {},
   "outputs": [
    {
     "data": {
      "text/plain": [
       "- : int list * int list = ([1; 3], [5])\n"
      ]
     },
<<<<<<< HEAD
     "execution_count": 109,
=======
     "execution_count": 18,
>>>>>>> 66ea5c17a9bca7f229fefa0f52759acdb609e4ca
     "metadata": {},
     "output_type": "execute_result"
    }
   ],
   "source": [
    "_split [1; 5; 3]"
   ]
  },
  {
   "cell_type": "code",
<<<<<<< HEAD
   "execution_count": 110,
=======
   "execution_count": 19,
>>>>>>> 66ea5c17a9bca7f229fefa0f52759acdb609e4ca
   "metadata": {},
   "outputs": [
    {
     "data": {
      "text/plain": [
       "- : int list = [0; 2; 3; 5; 9]\n"
      ]
     },
<<<<<<< HEAD
     "execution_count": 110,
=======
     "execution_count": 19,
>>>>>>> 66ea5c17a9bca7f229fefa0f52759acdb609e4ca
     "metadata": {},
     "output_type": "execute_result"
    }
   ],
   "source": [
    "fusion_sort [2; 5; 3; 9; 0]"
   ]
  },
  {
   "cell_type": "code",
<<<<<<< HEAD
   "execution_count": 111,
=======
   "execution_count": 22,
   "metadata": {},
   "outputs": [
    {
     "data": {
      "text/plain": [
       "val t1 : int array = [|4; 1; 0; 7|]\n"
      ]
     },
     "execution_count": 22,
     "metadata": {},
     "output_type": "execute_result"
    }
   ],
   "source": [
    "let t1 = [|4; 1; 0; 7|];;"
   ]
  },
  {
   "cell_type": "code",
   "execution_count": 23,
   "metadata": {},
   "outputs": [
    {
     "data": {
      "text/plain": [
       "- : unit = ()\n"
      ]
     },
     "execution_count": 23,
     "metadata": {},
     "output_type": "execute_result"
    }
   ],
   "source": [
    "tri_comptage t1;;"
   ]
  },
  {
   "cell_type": "code",
   "execution_count": 24,
   "metadata": {},
   "outputs": [
    {
     "data": {
      "text/plain": [
       "- : int array = [|0; 1; 4; 7|]\n"
      ]
     },
     "execution_count": 24,
     "metadata": {},
     "output_type": "execute_result"
    }
   ],
   "source": [
    "t1;;"
   ]
  },
  {
   "cell_type": "code",
   "execution_count": null,
>>>>>>> 66ea5c17a9bca7f229fefa0f52759acdb609e4ca
   "metadata": {},
   "outputs": [
    {
     "data": {
      "text/plain": [
       "- : int list = [1; 20; 5; 5; 4; 6]\n"
      ]
     },
     "execution_count": 111,
     "metadata": {},
     "output_type": "execute_result"
    }
   ],
   "source": [
    "_concat [1;20;5] [5;4;6];;"
   ]
  },
  {
   "cell_type": "code",
   "execution_count": 112,
   "metadata": {},
   "outputs": [
    {
     "data": {
      "text/plain": [
       "- : int list * int list = ([3; 2], [7])\n"
      ]
     },
     "execution_count": 112,
     "metadata": {},
     "output_type": "execute_result"
    }
   ],
   "source": [
    "_partition 5 [3;2;7];;"
   ]
  },
  {
   "cell_type": "code",
   "execution_count": 113,
   "metadata": {},
   "outputs": [
    {
     "data": {
      "text/plain": [
       "- : int list = [1; 1; 2; 3; 4; 8]\n"
      ]
     },
     "execution_count": 113,
     "metadata": {},
     "output_type": "execute_result"
    }
   ],
   "source": [
    "quicksort [1;2;4;3;8;1];;"
   ]
  }
 ],
 "metadata": {
  "kernelspec": {
   "display_name": "OCaml default",
   "language": "OCaml",
   "name": "ocaml-jupyter"
  },
  "language_info": {
   "codemirror_mode": "text/x-ocaml",
   "file_extension": ".ml",
   "mimetype": "text/x-ocaml",
   "name": "OCaml",
   "nbconverter_exporter": null,
   "pygments_lexer": "OCaml",
   "version": "4.08.1"
  }
 },
 "nbformat": 4,
 "nbformat_minor": 4
}
