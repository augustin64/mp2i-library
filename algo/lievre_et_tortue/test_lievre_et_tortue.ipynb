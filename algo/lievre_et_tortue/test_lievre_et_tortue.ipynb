{
 "cells": [
  {
   "cell_type": "code",
   "execution_count": 26,
   "id": "348fa8b8-4634-42bf-91e1-7c0282ebd5bf",
   "metadata": {},
   "outputs": [
    {
     "name": "stdout",
     "output_type": "stream",
     "text": [
      "type 'a case = { elem : 'a; mutable next : 'a liste1; }\n",
      "and 'a liste1 = Vide | C of 'a case\n",
      "val to_list : 'a liste1 -> 'a list = <fun>\n"
     ]
    }
   ],
   "source": [
    "#use \"ds/liste1.ml\";;"
   ]
  },
  {
   "cell_type": "code",
   "execution_count": 27,
   "id": "7d48477d-ff27-4e13-9f40-bb1209e6a1cd",
   "metadata": {},
   "outputs": [
    {
     "name": "stdout",
     "output_type": "stream",
     "text": [
      "val has_cycle : 'a liste1 -> 'a case list -> bool = <fun>\n",
      "val step : 'a liste1 -> 'a liste1 = <fun>\n",
      "val lievre_et_tortue : 'a liste1 -> 'a liste1 -> bool = <fun>\n"
     ]
    }
   ],
   "source": [
    "#use \"algo/has_cycle.ml\";;"
   ]
  },
  {
   "cell_type": "code",
   "execution_count": 28,
   "id": "b447fe78-ca45-4b75-9de5-c2d0d1ead67a",
   "metadata": {},
   "outputs": [
    {
     "data": {
      "text/plain": [
       "val l : int case = {elem = 1; next = C {elem = 2; next = Vide}}\n"
      ]
     },
     "execution_count": 28,
     "metadata": {},
     "output_type": "execute_result"
    }
   ],
   "source": [
    "let l = {elem=1; next=C {elem=2; next=Vide}};;"
   ]
  },
  {
   "cell_type": "code",
   "execution_count": 29,
   "id": "3f18a81d-9668-4329-a5be-529a76c20d56",
   "metadata": {},
   "outputs": [
    {
     "data": {
      "text/plain": [
       "- : int list = [1; 2]\n"
      ]
     },
     "execution_count": 29,
     "metadata": {},
     "output_type": "execute_result"
    }
   ],
   "source": [
    "to_list (C l);;"
   ]
  },
  {
   "cell_type": "code",
   "execution_count": 30,
   "id": "c65570e6-b92b-489e-9a75-53718101fffc",
   "metadata": {},
   "outputs": [
    {
     "data": {
      "text/plain": [
       "- : bool = false\n"
      ]
     },
     "execution_count": 30,
     "metadata": {},
     "output_type": "execute_result"
    }
   ],
   "source": [
    "has_cycle (C l) [];;"
   ]
  },
  {
   "cell_type": "code",
   "execution_count": 31,
   "id": "0fc5d2d9-788d-42ce-ba9c-53edb3bec75b",
   "metadata": {},
   "outputs": [
    {
     "data": {
      "text/plain": [
       "val l_c : int case = {elem = 1; next = C {elem = 2; next = Vide}}\n"
      ]
     },
     "execution_count": 31,
     "metadata": {},
     "output_type": "execute_result"
    }
   ],
   "source": [
    "let l_c = {elem=1; next=C {elem=2; next=Vide}};;"
   ]
  },
  {
   "cell_type": "code",
   "execution_count": 32,
   "id": "8fa37b55-5bdc-4e01-8e27-952cec409420",
   "metadata": {},
   "outputs": [
    {
     "data": {
      "text/plain": [
       "- : int case = {elem = 1; next = C <cycle>}\n"
      ]
     },
     "execution_count": 32,
     "metadata": {},
     "output_type": "execute_result"
    }
   ],
   "source": [
    "l_c.next <- (C l_c); l_c;;"
   ]
  },
  {
   "cell_type": "code",
   "execution_count": 33,
   "id": "7017bdd6-8c58-4c50-a8f4-6a829817732c",
   "metadata": {},
   "outputs": [
    {
     "data": {
      "text/plain": [
       "- : bool = true\n"
      ]
     },
     "execution_count": 33,
     "metadata": {},
     "output_type": "execute_result"
    }
   ],
   "source": [
    "has_cycle (C l_c) [];;"
   ]
  },
  {
   "cell_type": "code",
   "execution_count": 34,
   "id": "c6e57f2d-b673-4249-bdb0-132002cad83a",
   "metadata": {},
   "outputs": [
    {
     "data": {
      "text/plain": [
       "- : bool = false\n"
      ]
     },
     "execution_count": 34,
     "metadata": {},
     "output_type": "execute_result"
    }
   ],
   "source": [
    "lievre_et_tortue (step (C l)) (C l);;"
   ]
  },
  {
   "cell_type": "code",
   "execution_count": 35,
   "id": "f4184d2a-2598-482a-9695-40b63bef7167",
   "metadata": {},
   "outputs": [
    {
     "data": {
      "text/plain": [
       "- : bool = true\n"
      ]
     },
     "execution_count": 35,
     "metadata": {},
     "output_type": "execute_result"
    }
   ],
   "source": [
    "lievre_et_tortue (step (C l_c)) (C l_c);;"
   ]
  }
 ],
 "metadata": {
  "kernelspec": {
   "display_name": "OCaml default",
   "language": "OCaml",
   "name": "ocaml-jupyter"
  },
  "language_info": {
   "codemirror_mode": "text/x-ocaml",
   "file_extension": ".ml",
   "mimetype": "text/x-ocaml",
   "name": "OCaml",
   "nbconverter_exporter": null,
   "pygments_lexer": "OCaml",
   "version": "4.08.1"
  }
 },
 "nbformat": 4,
 "nbformat_minor": 5
}
