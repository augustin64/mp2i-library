{
 "cells": [
  {
   "cell_type": "code",
   "execution_count": 8,
   "id": "bad227fb-3107-4b92-b794-c2a46d314d59",
   "metadata": {},
   "outputs": [
    {
     "name": "stdout",
     "output_type": "stream",
     "text": [
      "val mem : 'a list -> 'a -> bool = <fun>\n",
      "val dicho : 'a array -> 'a -> bool = <fun>\n",
      "val tricho : 'a array -> 'a -> bool = <fun>\n"
     ]
    }
   ],
   "source": [
    "#use \"search.ml\""
   ]
  },
  {
   "cell_type": "code",
   "execution_count": 9,
   "id": "9dbcedd4-6328-42f5-bf3f-62b688c15588",
   "metadata": {},
   "outputs": [
    {
     "data": {
      "text/plain": [
       "- : bool = false\n"
      ]
     },
     "execution_count": 9,
     "metadata": {},
     "output_type": "execute_result"
    }
   ],
   "source": [
    "mem [3;5;3;8;4;6] 2;;"
   ]
  },
  {
   "cell_type": "code",
   "execution_count": 10,
   "id": "6b49b750-6f97-47a0-8106-6ba7f6ee4b9e",
   "metadata": {},
   "outputs": [
    {
     "data": {
      "text/plain": [
       "- : bool = true\n"
      ]
     },
     "execution_count": 10,
     "metadata": {},
     "output_type": "execute_result"
    }
   ],
   "source": [
    "mem [3;5;3;8;4;6] 3;;"
   ]
  },
  {
   "cell_type": "code",
   "execution_count": 11,
   "id": "52d19242-3d5a-44b7-a704-1e73d8f780a5",
   "metadata": {},
   "outputs": [
    {
     "data": {
      "text/plain": [
       "- : bool = true\n"
      ]
     },
     "execution_count": 11,
     "metadata": {},
     "output_type": "execute_result"
    }
   ],
   "source": [
    "dicho [|1;2;4;7;8;8;48|] 2;;"
   ]
  },
  {
   "cell_type": "code",
   "execution_count": 12,
   "id": "85c5e7d0-d12b-4eca-9c8c-6145f2083298",
   "metadata": {},
   "outputs": [
    {
     "data": {
      "text/plain": [
       "- : bool = false\n"
      ]
     },
     "execution_count": 12,
     "metadata": {},
     "output_type": "execute_result"
    }
   ],
   "source": [
    "dicho [|1;2;4;7;8;8;48|] 10;;"
   ]
  },
  {
   "cell_type": "code",
   "execution_count": 13,
   "id": "73275ac4-298d-4e5d-bb2e-205da601796d",
   "metadata": {},
   "outputs": [
    {
     "data": {
      "text/plain": [
       "- : bool = true\n"
      ]
     },
     "execution_count": 13,
     "metadata": {},
     "output_type": "execute_result"
    }
   ],
   "source": [
    "tricho [|1;2;4;7;8;8;48|] 2;;"
   ]
  },
  {
   "cell_type": "code",
   "execution_count": 14,
   "id": "2be38923-482b-4a94-8ade-a6d1e9d513f0",
   "metadata": {},
   "outputs": [
    {
     "data": {
      "text/plain": [
       "- : bool = false\n"
      ]
     },
     "execution_count": 14,
     "metadata": {},
     "output_type": "execute_result"
    }
   ],
   "source": [
    "tricho [|1;2;4;7;8;8;48|] 10;;"
   ]
  }
 ],
 "metadata": {
  "kernelspec": {
   "display_name": "OCaml default",
   "language": "OCaml",
   "name": "ocaml-jupyter"
  },
  "language_info": {
   "codemirror_mode": "text/x-ocaml",
   "file_extension": ".ml",
   "mimetype": "text/x-ocaml",
   "name": "OCaml",
   "nbconverter_exporter": null,
   "pygments_lexer": "OCaml",
   "version": "4.08.1"
  }
 },
 "nbformat": 4,
 "nbformat_minor": 5
}
