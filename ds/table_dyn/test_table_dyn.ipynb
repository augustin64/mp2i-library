{
 "cells": [
  {
   "cell_type": "code",
   "execution_count": 2,
   "id": "aac27048-80b6-4ed3-8413-523798bf677c",
   "metadata": {},
   "outputs": [
    {
     "name": "stdout",
     "output_type": "stream",
     "text": [
      "type ('a, 'b) table_dyn = {\n",
      "  hache : int -> 'a -> int;\n",
      "  mutable taille : int;\n",
      "  mutable donnees : ('a * 'b) list array;\n",
      "  mutable largeur : int;\n",
      "}\n",
      "val creer_dyn : (int -> 'a -> int) -> ('a, 'b) table_dyn = <fun>\n",
      "val h : int -> int -> int = <fun>\n",
      "val rearrange : ('a, 'b) table_dyn -> int -> unit = <fun>\n"
     ]
    }
   ],
   "source": [
    "#use \"table_dyn.ml\";;"
   ]
  },
  {
   "cell_type": "code",
   "execution_count": 3,
   "id": "2480e84a-b950-459e-b83d-c14135feb76d",
   "metadata": {},
   "outputs": [
    {
     "data": {
      "text/plain": [
       "val h : int -> int -> int = <fun>\n"
      ]
     },
     "execution_count": 3,
     "metadata": {},
     "output_type": "execute_result"
    }
   ],
   "source": [
    "let h w k =\n",
    "    k mod w;;"
   ]
  },
  {
   "cell_type": "code",
   "execution_count": 4,
   "id": "5b0a455d-6741-4bbb-9244-c8be52137592",
   "metadata": {},
   "outputs": [
    {
     "data": {
      "text/plain": [
       "val t : (int, '_weak1) table_dyn =\n",
       "  {hache = <fun>; taille = 0; donnees = [|[]|]; largeur = 1}\n"
      ]
     },
     "execution_count": 4,
     "metadata": {},
     "output_type": "execute_result"
    }
   ],
   "source": [
    "let t = creer_dyn h;;"
   ]
  },
  {
   "cell_type": "code",
   "execution_count": 5,
   "id": "48dcff8c-ff49-49bb-872a-33ebeb38e1d1",
   "metadata": {},
   "outputs": [
    {
     "data": {
      "text/plain": [
       "- : unit = ()\n"
      ]
     },
     "execution_count": 5,
     "metadata": {},
     "output_type": "execute_result"
    }
   ],
   "source": [
    "rearrange t 4;;"
   ]
  },
  {
   "cell_type": "code",
   "execution_count": 6,
   "id": "3abf034f-46f9-4fc3-b0a9-80c59bcff037",
   "metadata": {},
   "outputs": [
    {
     "data": {
      "text/plain": [
       "- : (int, '_weak2) table_dyn =\n",
       "{hache = <fun>; taille = 0; donnees = [|[]; []; []; []|]; largeur = 4}\n"
      ]
     },
     "execution_count": 6,
     "metadata": {},
     "output_type": "execute_result"
    }
   ],
   "source": [
    "t;;"
   ]
  }
 ],
 "metadata": {
  "kernelspec": {
   "display_name": "OCaml default",
   "language": "OCaml",
   "name": "ocaml-jupyter"
  },
  "language_info": {
   "codemirror_mode": "text/x-ocaml",
   "file_extension": ".ml",
   "mimetype": "text/x-ocaml",
   "name": "OCaml",
   "nbconverter_exporter": null,
   "pygments_lexer": "OCaml",
   "version": "4.08.1"
  }
 },
 "nbformat": 4,
 "nbformat_minor": 5
}
