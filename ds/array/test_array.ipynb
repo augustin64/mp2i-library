{
 "cells": [
  {
   "cell_type": "code",
   "execution_count": 23,
   "id": "59bc2a31-9686-4ba7-94ef-dd7f62c0bac4",
   "metadata": {},
   "outputs": [
    {
     "name": "stdout",
     "output_type": "stream",
     "text": [
      "val somme : int array -> int = <fun>\n",
      "val maximum : 'a array -> 'a = <fun>\n",
      "val minimum : 'a array -> 'a = <fun>\n",
      "val list_of_array : 'a array -> 'a list = <fun>\n",
      "val croissant : 'a array -> bool = <fun>\n",
      "val max_local : 'a array -> int = <fun>\n",
      "val tri_comptage : int array -> unit = <fun>\n",
      "val tranche_max : int array -> int = <fun>\n",
      "val inv : 'a array -> int = <fun>\n"
     ]
    }
   ],
   "source": [
    "#use \"array.ml\""
   ]
  },
  {
   "cell_type": "code",
   "execution_count": 44,
   "id": "4d0d01b9-8466-4388-92f3-d8f1661ef909",
   "metadata": {},
   "outputs": [
    {
     "data": {
      "text/plain": [
       "val t1 : int array = [|1; 4; 3; 8; 2|]\n"
      ]
     },
     "execution_count": 44,
     "metadata": {},
     "output_type": "execute_result"
    }
   ],
   "source": [
    "let t1 = [|1; 4; 3; 8; 2|];;"
   ]
  },
  {
   "cell_type": "code",
   "execution_count": 45,
   "id": "bc698828-25d0-4818-b0d2-a9d18de4aed5",
   "metadata": {},
   "outputs": [
    {
     "data": {
      "text/plain": [
       "- : int = 18\n"
      ]
     },
     "execution_count": 45,
     "metadata": {},
     "output_type": "execute_result"
    }
   ],
   "source": [
    "somme t1;;"
   ]
  },
  {
   "cell_type": "code",
   "execution_count": 46,
   "id": "a135a07f-5f8c-4c3e-a06d-c57a040d37e2",
   "metadata": {},
   "outputs": [
    {
     "data": {
      "text/plain": [
       "- : int = 8\n"
      ]
     },
     "execution_count": 46,
     "metadata": {},
     "output_type": "execute_result"
    }
   ],
   "source": [
    "maximum t1;;"
   ]
  },
  {
   "cell_type": "code",
   "execution_count": 47,
   "id": "bf7ff2f2-0b8e-4927-bb33-d7ea92df97ad",
   "metadata": {},
   "outputs": [
    {
     "data": {
      "text/plain": [
       "- : int = 1\n"
      ]
     },
     "execution_count": 47,
     "metadata": {},
     "output_type": "execute_result"
    }
   ],
   "source": [
    "minimum t1;;"
   ]
  },
  {
   "cell_type": "code",
   "execution_count": 48,
   "id": "260de006-07e8-437b-978e-cf12ccf7a866",
   "metadata": {},
   "outputs": [
    {
     "data": {
      "text/plain": [
       "- : int list = [2; 8; 3; 4; 1]\n"
      ]
     },
     "execution_count": 48,
     "metadata": {},
     "output_type": "execute_result"
    }
   ],
   "source": [
    "list_of_array t1;;"
   ]
  },
  {
   "cell_type": "code",
   "execution_count": 49,
   "id": "cf48c144-8ecf-42e9-ad7c-2c85a9fd4ce6",
   "metadata": {},
   "outputs": [
    {
     "data": {
      "text/plain": [
       "- : bool = false\n"
      ]
     },
     "execution_count": 49,
     "metadata": {},
     "output_type": "execute_result"
    }
   ],
   "source": [
    "croissant t1;;"
   ]
  },
  {
   "cell_type": "code",
   "execution_count": 50,
   "id": "1df77269-8ab4-4f5d-801a-52fe11d14beb",
   "metadata": {},
   "outputs": [
    {
     "data": {
      "text/plain": [
       "- : bool = true\n"
      ]
     },
     "execution_count": 50,
     "metadata": {},
     "output_type": "execute_result"
    }
   ],
   "source": [
    "croissant [|0; 3; 6; 9|];;"
   ]
  },
  {
   "cell_type": "code",
   "execution_count": 51,
   "id": "428a4d44-b834-4978-bd73-06a127e82795",
   "metadata": {},
   "outputs": [
    {
     "data": {
      "text/plain": [
       "- : int = 3\n"
      ]
     },
     "execution_count": 51,
     "metadata": {},
     "output_type": "execute_result"
    }
   ],
   "source": [
    "max_local t1;;"
   ]
  },
  {
   "cell_type": "code",
   "execution_count": 52,
   "id": "37db827a-8a8e-4191-90a2-213a5695c33f",
   "metadata": {},
   "outputs": [
    {
     "data": {
      "text/plain": [
       "- : unit = ()\n"
      ]
     },
     "execution_count": 52,
     "metadata": {},
     "output_type": "execute_result"
    }
   ],
   "source": [
    "tri_comptage t1;;"
   ]
  },
  {
   "cell_type": "code",
   "execution_count": 53,
   "id": "04ea52d3-b058-4bc8-9694-8aa67fe92ed2",
   "metadata": {},
   "outputs": [
    {
     "data": {
      "text/plain": [
       "- : int array = [|1; 2; 3; 4; 8|]\n"
      ]
     },
     "execution_count": 53,
     "metadata": {},
     "output_type": "execute_result"
    }
   ],
   "source": [
    "t1;;"
   ]
  },
  {
   "cell_type": "code",
   "execution_count": 54,
   "id": "67bfa57b-19ca-4e70-92c4-ad522fdff9c9",
   "metadata": {},
   "outputs": [
    {
     "data": {
      "text/plain": [
       "- : int = 7\n"
      ]
     },
     "execution_count": 54,
     "metadata": {},
     "output_type": "execute_result"
    }
   ],
   "source": [
    "tranche_max [|1; 4; -3; 5; -7; 0|];;"
   ]
  },
  {
   "cell_type": "code",
   "execution_count": 55,
   "id": "1c25baad-3f0e-4aa3-addc-3e9f1b324275",
   "metadata": {},
   "outputs": [
    {
     "data": {
      "text/plain": [
       "- : int = 9\n"
      ]
     },
     "execution_count": 55,
     "metadata": {},
     "output_type": "execute_result"
    }
   ],
   "source": [
    "inv [|1; 4; -3; 5; -7; 0|];;"
   ]
  },
  {
   "cell_type": "code",
   "execution_count": null,
   "id": "b16ca7fa-dc0a-495b-bd3a-3a0da700dae3",
   "metadata": {},
   "outputs": [],
   "source": []
  }
 ],
 "metadata": {
  "kernelspec": {
   "display_name": "OCaml default",
   "language": "OCaml",
   "name": "ocaml-jupyter"
  },
  "language_info": {
   "codemirror_mode": "text/x-ocaml",
   "file_extension": ".ml",
   "mimetype": "text/x-ocaml",
   "name": "OCaml",
   "nbconverter_exporter": null,
   "pygments_lexer": "OCaml",
   "version": "4.08.1"
  }
 },
 "nbformat": 4,
 "nbformat_minor": 5
}
