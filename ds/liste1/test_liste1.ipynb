{
 "cells": [
  {
   "cell_type": "code",
   "execution_count": 1,
   "id": "7be71cb1-7009-4e3e-9bed-43338e9d372c",
   "metadata": {},
   "outputs": [
    {
     "name": "stdout",
     "output_type": "stream",
     "text": [
      "type 'a case = { elem : 'a; mutable next : 'a liste1; }\n",
      "and 'a liste1 = Vide | C of 'a case\n",
      "val to_list : 'a liste1 -> 'a list = <fun>\n"
     ]
    }
   ],
   "source": [
    "#use \"liste1.ml\""
   ]
  },
  {
   "cell_type": "code",
   "execution_count": 2,
   "id": "b145e656-7670-4258-b0a7-927446ce91c8",
   "metadata": {},
   "outputs": [
    {
     "data": {
      "text/plain": [
       "val l : int case = {elem = 1; next = C {elem = 2; next = Vide}}\n"
      ]
     },
     "execution_count": 2,
     "metadata": {},
     "output_type": "execute_result"
    }
   ],
   "source": [
    "let l = {elem=1; next=C {elem=2; next=Vide}};;"
   ]
  },
  {
   "cell_type": "code",
   "execution_count": 3,
   "id": "23b5cc8e-be70-4863-92c9-2602bfa197aa",
   "metadata": {},
   "outputs": [
    {
     "data": {
      "text/plain": [
       "- : int list = [1; 2]\n"
      ]
     },
     "execution_count": 3,
     "metadata": {},
     "output_type": "execute_result"
    }
   ],
   "source": [
    "to_list (C l);;"
   ]
  }
 ],
 "metadata": {
  "kernelspec": {
   "display_name": "OCaml default",
   "language": "OCaml",
   "name": "ocaml-jupyter"
  },
  "language_info": {
   "codemirror_mode": "text/x-ocaml",
   "file_extension": ".ml",
   "mimetype": "text/x-ocaml",
   "name": "OCaml",
   "nbconverter_exporter": null,
   "pygments_lexer": "OCaml",
   "version": "4.08.1"
  }
 },
 "nbformat": 4,
 "nbformat_minor": 5
}
