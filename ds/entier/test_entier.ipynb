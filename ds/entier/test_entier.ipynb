{
 "cells": [
  {
   "cell_type": "code",
   "execution_count": 27,
   "id": "c0d47291-496b-4bca-a40e-46a58cbe3547",
   "metadata": {},
   "outputs": [
    {
     "name": "stdout",
     "output_type": "stream",
     "text": [
      "type entier = Infini | MoinsInfini | Entier of int\n",
      "val _add_int : int -> int -> entier = <fun>\n",
      "val _oppose : entier -> entier = <fun>\n",
      "val _inverse : entier -> entier = <fun>\n",
      "val ( +! ) : entier -> entier -> entier = <fun>\n",
      "val ( -! ) : entier -> entier -> entier = <fun>\n",
      "val ( *! ) : entier -> entier -> entier = <fun>\n",
      "val ( /! ) : entier -> entier -> entier = <fun>\n"
     ]
    }
   ],
   "source": [
    "#use \"entier.ml\""
   ]
  },
  {
   "cell_type": "code",
   "execution_count": 28,
   "id": "a98a802c-29e5-45f3-b0f9-de7e4d6908b6",
   "metadata": {},
   "outputs": [
    {
     "data": {
      "text/plain": [
       "val e1 : entier = Entier 5\n"
      ]
     },
     "execution_count": 28,
     "metadata": {},
     "output_type": "execute_result"
    },
    {
     "data": {
      "text/plain": [
       "val inf : entier = Infini\n"
      ]
     },
     "execution_count": 28,
     "metadata": {},
     "output_type": "execute_result"
    },
    {
     "data": {
      "text/plain": [
       "val moins_inf : entier = MoinsInfini\n"
      ]
     },
     "execution_count": 28,
     "metadata": {},
     "output_type": "execute_result"
    }
   ],
   "source": [
    "let e1 = Entier(5);;\n",
    "let inf = Infini;;\n",
    "let moins_inf = MoinsInfini;;"
   ]
  },
  {
   "cell_type": "code",
   "execution_count": 29,
   "id": "630b65ea-cb64-474f-8fda-ad337c17c7af",
   "metadata": {},
   "outputs": [
    {
     "data": {
      "text/plain": [
       "- : entier = Entier 9\n"
      ]
     },
     "execution_count": 29,
     "metadata": {},
     "output_type": "execute_result"
    }
   ],
   "source": [
    "_add_int 5 4;;"
   ]
  },
  {
   "cell_type": "code",
   "execution_count": 30,
   "id": "869f24d0-53ea-4f4c-abf0-67d738c4c5f2",
   "metadata": {},
   "outputs": [
    {
     "data": {
      "text/plain": [
       "- : entier = MoinsInfini\n"
      ]
     },
     "execution_count": 30,
     "metadata": {},
     "output_type": "execute_result"
    },
    {
     "data": {
      "text/plain": [
       "- : entier = Infini\n"
      ]
     },
     "execution_count": 30,
     "metadata": {},
     "output_type": "execute_result"
    },
    {
     "data": {
      "text/plain": [
       "- : entier = Entier (-5)\n"
      ]
     },
     "execution_count": 30,
     "metadata": {},
     "output_type": "execute_result"
    }
   ],
   "source": [
    "_oppose inf;;\n",
    "_oppose moins_inf;;\n",
    "_oppose e1;;"
   ]
  },
  {
   "cell_type": "code",
   "execution_count": 31,
   "id": "b483b6c7-71f4-4d34-962f-26ac3b91412b",
   "metadata": {},
   "outputs": [
    {
     "ename": "error",
     "evalue": "runtime_error",
     "output_type": "error",
     "traceback": [
      "\u001b[31mException: Failure \"Indéterminé\".\nRaised at file \"stdlib.ml\", line 29, characters 22-33\nCalled from file \"toplevel/toploop.ml\", line 208, characters 17-27\n\u001b[0m"
     ]
    }
   ],
   "source": [
    "inf +! moins_inf;;"
   ]
  },
  {
   "cell_type": "code",
   "execution_count": 32,
   "id": "1ca0a158-5b52-4bea-b1fb-2ed66d8cf679",
   "metadata": {},
   "outputs": [
    {
     "data": {
      "text/plain": [
       "- : entier = Infini\n"
      ]
     },
     "execution_count": 32,
     "metadata": {},
     "output_type": "execute_result"
    }
   ],
   "source": [
    "inf +! e1;;"
   ]
  },
  {
   "cell_type": "code",
   "execution_count": 33,
   "id": "115f9acf-f3ff-40cf-bb9d-67ecf3b18373",
   "metadata": {},
   "outputs": [
    {
     "data": {
      "text/plain": [
       "- : entier = Entier 10\n"
      ]
     },
     "execution_count": 33,
     "metadata": {},
     "output_type": "execute_result"
    }
   ],
   "source": [
    "e1 +! e1;;"
   ]
  },
  {
   "cell_type": "code",
   "execution_count": 34,
   "id": "7e2685b9-117c-4d47-8671-01713ffe5a98",
   "metadata": {},
   "outputs": [
    {
     "data": {
      "text/plain": [
       "- : entier = Infini\n"
      ]
     },
     "execution_count": 34,
     "metadata": {},
     "output_type": "execute_result"
    }
   ],
   "source": [
    "inf -! moins_inf;;"
   ]
  },
  {
   "cell_type": "code",
   "execution_count": 36,
   "id": "f3e16a85-8296-4e69-84ac-5efe8e5aafcd",
   "metadata": {},
   "outputs": [
    {
     "data": {
      "text/plain": [
       "- : entier = Infini\n"
      ]
     },
     "execution_count": 36,
     "metadata": {},
     "output_type": "execute_result"
    }
   ],
   "source": [
    "inf /! e1;;"
   ]
  },
  {
   "cell_type": "code",
   "execution_count": null,
   "id": "4b5136a7-6c0a-4f33-bf8b-52547d32411f",
   "metadata": {},
   "outputs": [],
   "source": []
  }
 ],
 "metadata": {
  "kernelspec": {
   "display_name": "OCaml default",
   "language": "OCaml",
   "name": "ocaml-jupyter"
  },
  "language_info": {
   "codemirror_mode": "text/x-ocaml",
   "file_extension": ".ml",
   "mimetype": "text/x-ocaml",
   "name": "OCaml",
   "nbconverter_exporter": null,
   "pygments_lexer": "OCaml",
   "version": "4.08.1"
  }
 },
 "nbformat": 4,
 "nbformat_minor": 5
}
