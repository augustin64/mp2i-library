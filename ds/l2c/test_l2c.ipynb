{
 "cells": [
  {
   "cell_type": "code",
   "execution_count": 29,
   "id": "18870e1d-9dc3-4ae6-9f24-083021a70453",
   "metadata": {},
   "outputs": [
    {
     "name": "stdout",
     "output_type": "stream",
     "text": [
      "type 'a l2c = { elem : 'a; mutable prev : 'a l2c; mutable next : 'a l2c; }\n",
      "val create : 'a -> 'a l2c = <fun>\n",
      "val add : 'a -> 'a l2c -> unit = <fun>\n",
      "val del : 'a l2c -> unit = <fun>\n",
      "val length : 'a l2c -> int = <fun>\n",
      "val print_l2c : int l2c -> unit = <fun>\n",
      "val mem : 'a -> 'a l2c -> bool = <fun>\n",
      "val fusion : 'a l2c -> 'a l2c -> unit = <fun>\n"
     ]
    }
   ],
   "source": [
    "#use \"l2c.ml\""
   ]
  },
  {
   "cell_type": "code",
   "execution_count": 30,
   "id": "7b10a5ce-87c6-473b-81c5-ce25e06347ec",
   "metadata": {},
   "outputs": [
    {
     "data": {
      "text/plain": [
       "val l1 : int l2c = {elem = 5; prev = <cycle>; next = <cycle>}\n"
      ]
     },
     "execution_count": 30,
     "metadata": {},
     "output_type": "execute_result"
    }
   ],
   "source": [
    "let l1 = create 5;;"
   ]
  },
  {
   "cell_type": "code",
   "execution_count": 31,
   "id": "981a429b-6036-4dd1-99a1-b928e4d5ac81",
   "metadata": {},
   "outputs": [
    {
     "name": "stdout",
     "output_type": "stream",
     "text": [
      "\n",
      "[ 5]\n"
     ]
    },
    {
     "data": {
      "text/plain": [
       "- : unit = ()\n"
      ]
     },
     "execution_count": 31,
     "metadata": {},
     "output_type": "execute_result"
    }
   ],
   "source": [
    "print_l2c l1;;"
   ]
  },
  {
   "cell_type": "code",
   "execution_count": 32,
   "id": "c6d57bff-e45a-4a58-9b02-0b7b07e9f885",
   "metadata": {},
   "outputs": [
    {
     "data": {
      "text/plain": [
       "- : unit = ()\n"
      ]
     },
     "execution_count": 32,
     "metadata": {},
     "output_type": "execute_result"
    }
   ],
   "source": [
    "add 4 l1;;"
   ]
  },
  {
   "cell_type": "code",
   "execution_count": 33,
   "id": "a16531aa-1f1d-4dab-9e0b-a023df2c3232",
   "metadata": {},
   "outputs": [
    {
     "data": {
      "text/plain": [
       "- : unit = ()\n"
      ]
     },
     "execution_count": 33,
     "metadata": {},
     "output_type": "execute_result"
    },
    {
     "name": "stdout",
     "output_type": "stream",
     "text": [
      "\n",
      "[ 5; 4]\n"
     ]
    }
   ],
   "source": [
    "print_l2c l1;;"
   ]
  },
  {
   "cell_type": "code",
   "execution_count": 34,
   "id": "21d5881c-3053-405d-95ce-449bca34cbd1",
   "metadata": {},
   "outputs": [
    {
     "data": {
      "text/plain": [
       "val l1' : int l2c =\n",
       "  {elem = 4; prev = {elem = 5; prev = <cycle>; next = <cycle>};\n",
       "   next = {elem = 5; prev = <cycle>; next = <cycle>}}\n"
      ]
     },
     "execution_count": 34,
     "metadata": {},
     "output_type": "execute_result"
    }
   ],
   "source": [
    "let l1' = l1.next;;"
   ]
  },
  {
   "cell_type": "code",
   "execution_count": 35,
   "id": "46b8ac84-2eca-44e6-bbf1-4356e606a28f",
   "metadata": {},
   "outputs": [
    {
     "data": {
      "text/plain": [
       "- : unit = ()\n"
      ]
     },
     "execution_count": 35,
     "metadata": {},
     "output_type": "execute_result"
    }
   ],
   "source": [
    "del l1';;"
   ]
  },
  {
   "cell_type": "code",
   "execution_count": 36,
   "id": "5c7a0b59-6886-43a7-b65a-7a824eaeec8f",
   "metadata": {},
   "outputs": [
    {
     "name": "stdout",
     "output_type": "stream",
     "text": [
      "\n",
      "[ 5]\n"
     ]
    },
    {
     "data": {
      "text/plain": [
       "- : unit = ()\n"
      ]
     },
     "execution_count": 36,
     "metadata": {},
     "output_type": "execute_result"
    }
   ],
   "source": [
    "print_l2c l1;;"
   ]
  },
  {
   "cell_type": "code",
   "execution_count": 37,
   "id": "293ddcb3-2437-459d-8064-49366d4b9807",
   "metadata": {},
   "outputs": [
    {
     "data": {
      "text/plain": [
       "val l1 : int l2c = {elem = 4; prev = <cycle>; next = <cycle>}\n"
      ]
     },
     "execution_count": 37,
     "metadata": {},
     "output_type": "execute_result"
    }
   ],
   "source": [
    "let l1 = create 4;;"
   ]
  },
  {
   "cell_type": "code",
   "execution_count": 38,
   "id": "098c057d-35f8-4201-b779-b2ce3a1db351",
   "metadata": {},
   "outputs": [
    {
     "data": {
      "text/plain": [
       "- : unit = ()\n"
      ]
     },
     "execution_count": 38,
     "metadata": {},
     "output_type": "execute_result"
    }
   ],
   "source": [
    "add 7 l1;;"
   ]
  },
  {
   "cell_type": "code",
   "execution_count": 39,
   "id": "a6cce8f2-9908-4fd0-a1ca-6ad779eca955",
   "metadata": {},
   "outputs": [
    {
     "data": {
      "text/plain": [
       "- : unit = ()\n"
      ]
     },
     "execution_count": 39,
     "metadata": {},
     "output_type": "execute_result"
    },
    {
     "name": "stdout",
     "output_type": "stream",
     "text": [
      "\n",
      "[ 4; 7]\n"
     ]
    }
   ],
   "source": [
    "print_l2c l1;;"
   ]
  },
  {
   "cell_type": "code",
   "execution_count": 40,
   "id": "d5fbc179-7404-4298-beea-2540af26bdc2",
   "metadata": {},
   "outputs": [
    {
     "data": {
      "text/plain": [
       "- : int = 2\n"
      ]
     },
     "execution_count": 40,
     "metadata": {},
     "output_type": "execute_result"
    }
   ],
   "source": [
    "length l1;;"
   ]
  },
  {
   "cell_type": "code",
   "execution_count": 41,
   "id": "9101509a-0ce8-4da1-a225-2cf4485229e8",
   "metadata": {},
   "outputs": [
    {
     "data": {
      "text/plain": [
       "- : bool = true\n"
      ]
     },
     "execution_count": 41,
     "metadata": {},
     "output_type": "execute_result"
    }
   ],
   "source": [
    "mem 4 l1;;"
   ]
  },
  {
   "cell_type": "code",
   "execution_count": 42,
   "id": "41cf6611-f1f4-45c2-a9b0-5d5dba2baed6",
   "metadata": {},
   "outputs": [
    {
     "data": {
      "text/plain": [
       "- : bool = false\n"
      ]
     },
     "execution_count": 42,
     "metadata": {},
     "output_type": "execute_result"
    }
   ],
   "source": [
    "mem 5 l1;;"
   ]
  },
  {
   "cell_type": "code",
   "execution_count": 43,
   "id": "e28d5858-9a58-4b86-9aa2-76a9f4108a8b",
   "metadata": {},
   "outputs": [
    {
     "data": {
      "text/plain": [
       "- : unit = ()\n"
      ]
     },
     "execution_count": 43,
     "metadata": {},
     "output_type": "execute_result"
    }
   ],
   "source": [
    "fusion l1 (create 6);;"
   ]
  },
  {
   "cell_type": "code",
   "execution_count": 44,
   "id": "22fb4b06-428b-4127-aa5b-e10601792801",
   "metadata": {},
   "outputs": [
    {
     "data": {
      "text/plain": [
       "- : int l2c =\n",
       "{elem = 4;\n",
       " prev =\n",
       "  {elem = 7; prev = {elem = 6; prev = <cycle>; next = <cycle>};\n",
       "   next = <cycle>};\n",
       " next =\n",
       "  {elem = 6; prev = <cycle>;\n",
       "   next = {elem = 7; prev = <cycle>; next = <cycle>}}}\n"
      ]
     },
     "execution_count": 44,
     "metadata": {},
     "output_type": "execute_result"
    }
   ],
   "source": [
    "l1;;"
   ]
  }
 ],
 "metadata": {
  "kernelspec": {
   "display_name": "OCaml default",
   "language": "OCaml",
   "name": "ocaml-jupyter"
  },
  "language_info": {
   "codemirror_mode": "text/x-ocaml",
   "file_extension": ".ml",
   "mimetype": "text/x-ocaml",
   "name": "OCaml",
   "nbconverter_exporter": null,
   "pygments_lexer": "OCaml",
   "version": "4.08.1"
  }
 },
 "nbformat": 4,
 "nbformat_minor": 5
}
