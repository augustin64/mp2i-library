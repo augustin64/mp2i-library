{
 "cells": [
  {
   "cell_type": "code",
   "execution_count": 24,
   "id": "21de6d5d-885d-45dc-9bc0-e0be7f9c57a0",
   "metadata": {
    "tags": []
   },
   "outputs": [
    {
     "name": "stdout",
     "output_type": "stream",
     "text": [
      "type 'a file = {\n",
      "  tab : 'a array;\n",
      "  mutable deb : int;\n",
      "  mutable fin : int;\n",
      "  mutable vide : bool;\n",
      "}\n",
      "val ajoute : 'a file -> 'a -> unit = <fun>\n",
      "val retire : 'a file -> 'a = <fun>\n"
     ]
    }
   ],
   "source": [
    "#use \"file.ml\""
   ]
  },
  {
   "cell_type": "code",
   "execution_count": 25,
   "id": "3db0bd98-7674-46b9-912a-fca8e0e8fb32",
   "metadata": {},
   "outputs": [
    {
     "data": {
      "text/plain": [
       "val file1 : int file =\n",
       "  {tab = [|12; 8; 7; 2; 5; 3; 1; 16; 3; 4; 0; 1|]; deb = 9; fin = 2;\n",
       "   vide = false}\n"
      ]
     },
     "execution_count": 25,
     "metadata": {},
     "output_type": "execute_result"
    },
    {
     "data": {
      "text/plain": [
       "val file2 : int file =\n",
       "  {tab = [|12; 8; 7; 2; 5; 3; 1; 16; 3; 4; 0; 1|]; deb = 2; fin = 2;\n",
       "   vide = true}\n"
      ]
     },
     "execution_count": 25,
     "metadata": {},
     "output_type": "execute_result"
    }
   ],
   "source": [
    "let file1 = {\n",
    "    tab=[|12;8;7;2;5;3;1;16;3;4;0;1|]; \n",
    "    deb=9; \n",
    "    fin=2; \n",
    "    vide=false\n",
    "};;\n",
    "\n",
    "let file2 = {\n",
    "    tab=[|12;8;7;2;5;3;1;16;3;4;0;1|]; \n",
    "    deb=2; \n",
    "    fin=2; \n",
    "    vide=true\n",
    "};;"
   ]
  },
  {
   "cell_type": "code",
   "execution_count": 26,
   "id": "e24ea4ff-45be-42a0-9f88-a1f830f7b08d",
   "metadata": {},
   "outputs": [
    {
     "data": {
      "text/plain": [
       "- : unit = ()\n"
      ]
     },
     "execution_count": 26,
     "metadata": {},
     "output_type": "execute_result"
    }
   ],
   "source": [
    "ajoute file2 1;;"
   ]
  },
  {
   "cell_type": "code",
   "execution_count": 27,
   "id": "6b4736a5-7afa-441c-b1be-60ca8a5da37f",
   "metadata": {},
   "outputs": [
    {
     "data": {
      "text/plain": [
       "- : int file =\n",
       "{tab = [|12; 8; 1; 2; 5; 3; 1; 16; 3; 4; 0; 1|]; deb = 2; fin = 3;\n",
       " vide = false}\n"
      ]
     },
     "execution_count": 27,
     "metadata": {},
     "output_type": "execute_result"
    }
   ],
   "source": [
    "file2;;"
   ]
  },
  {
   "cell_type": "markdown",
   "id": "097e2b47-2604-4fb4-a62e-c02f56b9b10b",
   "metadata": {},
   "source": [
    "L'élément 3 de la file file2 a bien été modifié, ainsi que le rang du dernier élément"
   ]
  },
  {
   "cell_type": "code",
   "execution_count": 28,
   "id": "00ebcb44-69ac-4385-9d94-f95080ca3074",
   "metadata": {},
   "outputs": [
    {
     "data": {
      "text/plain": [
       "- : int = 4\n"
      ]
     },
     "execution_count": 28,
     "metadata": {},
     "output_type": "execute_result"
    }
   ],
   "source": [
    "retire file1;;"
   ]
  },
  {
   "cell_type": "code",
   "execution_count": 29,
   "id": "27ae83eb-73ae-48c7-b39f-936ae3e521e4",
   "metadata": {},
   "outputs": [
    {
     "data": {
      "text/plain": [
       "- : int file =\n",
       "{tab = [|12; 8; 7; 2; 5; 3; 1; 16; 3; 4; 0; 1|]; deb = 10; fin = 2;\n",
       " vide = false}\n"
      ]
     },
     "execution_count": 29,
     "metadata": {},
     "output_type": "execute_result"
    }
   ],
   "source": [
    "file1;;"
   ]
  },
  {
   "cell_type": "markdown",
   "id": "64f90237-979c-4eaa-abbe-5ba1893e4fa6",
   "metadata": {},
   "source": [
    "Le premier élément de la file file1 a bien été renvoyé, et la valeur de début de la liste a bien été incrémentée"
   ]
  },
  {
   "cell_type": "code",
   "execution_count": 30,
   "id": "223336ae-dc70-4fe3-9155-4e4fa8a7634b",
   "metadata": {},
   "outputs": [
    {
     "data": {
      "text/plain": [
       "val file_vide : int file =\n",
       "  {tab = [|2; 2; 2; 2; 2; 2; 2; 2; 2; 2; 2; 2|]; deb = 0; fin = 0;\n",
       "   vide = true}\n"
      ]
     },
     "execution_count": 30,
     "metadata": {},
     "output_type": "execute_result"
    }
   ],
   "source": [
    "let file_vide = {tab = [|2; 2; 2; 2; 2; 2; 2; 2; 2; 2; 2; 2|]; deb = 0; fin = 0; vide = true}"
   ]
  },
  {
   "cell_type": "code",
   "execution_count": 31,
   "id": "08e854e0-b96c-4406-8b98-813435fe32fb",
   "metadata": {},
   "outputs": [
    {
     "ename": "error",
     "evalue": "runtime_error",
     "output_type": "error",
     "traceback": [
      "\u001b[31mException: Failure \"File vide\".\nRaised at file \"stdlib.ml\", line 29, characters 22-33\nCalled from file \"file.ml\", line 12, characters 8-28\nCalled from file \"toplevel/toploop.ml\", line 208, characters 17-27\n\u001b[0m"
     ]
    }
   ],
   "source": [
    "retire file_vide;;"
   ]
  },
  {
   "cell_type": "markdown",
   "id": "0496c421-ac06-466c-8914-a83a3159e5c8",
   "metadata": {},
   "source": [
    "La fonction renvoie bien une erreur"
   ]
  }
 ],
 "metadata": {
  "kernelspec": {
   "display_name": "OCaml default",
   "language": "OCaml",
   "name": "ocaml-jupyter"
  },
  "language_info": {
   "codemirror_mode": "text/x-ocaml",
   "file_extension": ".ml",
   "mimetype": "text/x-ocaml",
   "name": "OCaml",
   "nbconverter_exporter": null,
   "pygments_lexer": "OCaml",
   "version": "4.08.1"
  }
 },
 "nbformat": 4,
 "nbformat_minor": 5
}
