{
 "cells": [
  {
   "cell_type": "code",
   "execution_count": 1,
   "id": "04373078-2148-47bc-818f-6b053a8bd1ad",
   "metadata": {},
   "outputs": [
    {
     "name": "stdout",
     "output_type": "stream",
     "text": [
      "type 'a dyn = { mutable t : 'a array; mutable n : int; }\n",
      "val copy : 'a array -> 'a array -> unit = <fun>\n",
      "val add : 'a -> 'a dyn -> unit = <fun>\n"
     ]
    }
   ],
   "source": [
    "#use \"dyn_array.ml\""
   ]
  },
  {
   "cell_type": "code",
   "execution_count": 2,
   "id": "0a2110bd-9420-4edd-8fc3-2ce46bfaa12c",
   "metadata": {},
   "outputs": [
    {
     "data": {
      "text/plain": [
       "val d : int dyn = {t = [|1; 5; 7; 6|]; n = 4}\n"
      ]
     },
     "execution_count": 2,
     "metadata": {},
     "output_type": "execute_result"
    }
   ],
   "source": [
    "let d = {t=[|1;5;7;6|]; n=4};;"
   ]
  },
  {
   "cell_type": "code",
   "execution_count": 3,
   "id": "857ba20f-182f-402f-b492-70e0adb06446",
   "metadata": {},
   "outputs": [
    {
     "data": {
      "text/plain": [
       "- : unit = ()\n"
      ]
     },
     "execution_count": 3,
     "metadata": {},
     "output_type": "execute_result"
    }
   ],
   "source": [
    "add 2 d;;"
   ]
  },
  {
   "cell_type": "code",
   "execution_count": 4,
   "id": "0352bf0b-5d7b-4211-81dc-8b705062b0b7",
   "metadata": {},
   "outputs": [
    {
     "data": {
      "text/plain": [
       "- : int dyn = {t = [|1; 5; 7; 6; 2; 1; 1; 1|]; n = 5}\n"
      ]
     },
     "execution_count": 4,
     "metadata": {},
     "output_type": "execute_result"
    }
   ],
   "source": [
    "d;;"
   ]
  },
  {
   "cell_type": "markdown",
   "id": "971b290d-2b75-48e6-93e3-544976057753",
   "metadata": {},
   "source": [
    "Lorsque le tableau et plein, la mise à jour s'effectue correctement"
   ]
  },
  {
   "cell_type": "code",
   "execution_count": 5,
   "id": "4c53d40c-776a-4dec-b951-768847fb8866",
   "metadata": {},
   "outputs": [
    {
     "data": {
      "text/plain": [
       "val d' : int dyn = {t = [|1; 3; 4; 0; 0|]; n = 3}\n"
      ]
     },
     "execution_count": 5,
     "metadata": {},
     "output_type": "execute_result"
    }
   ],
   "source": [
    "let d' = {t=[|1;3;4;0;0|]; n=3};;"
   ]
  },
  {
   "cell_type": "code",
   "execution_count": 6,
   "id": "3219e333-98f8-4c5e-9646-977a4506b099",
   "metadata": {},
   "outputs": [
    {
     "data": {
      "text/plain": [
       "- : unit = ()\n"
      ]
     },
     "execution_count": 6,
     "metadata": {},
     "output_type": "execute_result"
    }
   ],
   "source": [
    "add 7 d';;"
   ]
  },
  {
   "cell_type": "code",
   "execution_count": 7,
   "id": "92fc1b39-877d-4b30-991d-a4dee5061ee4",
   "metadata": {},
   "outputs": [
    {
     "data": {
      "text/plain": [
       "- : int dyn = {t = [|1; 3; 4; 7; 0|]; n = 4}\n"
      ]
     },
     "execution_count": 7,
     "metadata": {},
     "output_type": "execute_result"
    }
   ],
   "source": [
    "d';;"
   ]
  },
  {
   "cell_type": "markdown",
   "id": "2c711aa7-2896-4fb4-a103-b3d8f0dacca8",
   "metadata": {},
   "source": [
    "Lorsque le tableau n'est pas plein, la mise à jour s'effectue également sans problème"
   ]
  },
  {
   "cell_type": "code",
   "execution_count": 8,
   "id": "755fc528-a94d-4ef6-b714-9d922e8906f2",
   "metadata": {},
   "outputs": [
    {
     "data": {
      "text/plain": [
       "val d'' : '_weak1 dyn = {t = [||]; n = 0}\n"
      ]
     },
     "execution_count": 8,
     "metadata": {},
     "output_type": "execute_result"
    }
   ],
   "source": [
    "let d'' = {t=[||]; n=0};;"
   ]
  },
  {
   "cell_type": "code",
   "execution_count": 9,
   "id": "e48048ab-6494-49df-ae3e-cac023217fa0",
   "metadata": {},
   "outputs": [
    {
     "data": {
      "text/plain": [
       "- : unit = ()\n"
      ]
     },
     "execution_count": 9,
     "metadata": {},
     "output_type": "execute_result"
    }
   ],
   "source": [
    "add 1 d'';;"
   ]
  },
  {
   "cell_type": "code",
   "execution_count": 10,
   "id": "6fbee3f5-ec1b-4455-80b9-a8c4450bbd03",
   "metadata": {},
   "outputs": [
    {
     "data": {
      "text/plain": [
       "- : int dyn = {t = [|1|]; n = 1}\n"
      ]
     },
     "execution_count": 10,
     "metadata": {},
     "output_type": "execute_result"
    }
   ],
   "source": [
    "d'';;"
   ]
  },
  {
   "cell_type": "markdown",
   "id": "0e343001-a31b-4dd6-bd18-6c1e8dfb69e0",
   "metadata": {},
   "source": [
    "Dans le dernier cas, lorsque le tableau est vide, le tableau s'initialise correctement"
   ]
  }
 ],
 "metadata": {
  "kernelspec": {
   "display_name": "OCaml default",
   "language": "OCaml",
   "name": "ocaml-jupyter"
  },
  "language_info": {
   "codemirror_mode": "text/x-ocaml",
   "file_extension": ".ml",
   "mimetype": "text/x-ocaml",
   "name": "OCaml",
   "nbconverter_exporter": null,
   "pygments_lexer": "OCaml",
   "version": "4.08.1"
  }
 },
 "nbformat": 4,
 "nbformat_minor": 5
}
