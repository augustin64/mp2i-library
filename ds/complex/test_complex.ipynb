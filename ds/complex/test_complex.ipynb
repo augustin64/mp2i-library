{
 "cells": [
  {
   "cell_type": "code",
   "execution_count": null,
   "id": "9c9d60df-0e63-487e-9cca-218cdea904c2",
   "metadata": {},
   "outputs": [],
   "source": []
  },
  {
   "cell_type": "code",
   "execution_count": 187,
   "id": "e62a7718-5b03-4604-9248-fd48278851b0",
   "metadata": {
    "tags": []
   },
   "outputs": [
    {
     "name": "stdout",
     "output_type": "stream",
     "text": [
      "type complex = { re : float; im : float; }\n",
      "type polaire = { r : float; theta : float; }\n",
      "val ( +~ ) : complex -> complex -> complex = <fun>\n",
      "val ( -~ ) : complex -> complex -> complex = <fun>\n",
      "val ( *~ ) : complex -> complex -> complex = <fun>\n",
      "val ( /~ ) : complex -> complex -> complex = <fun>\n",
      "val conjugue : complex -> complex = <fun>\n",
      "val dist : complex -> complex -> float = <fun>\n",
      "val module_of : complex -> float = <fun>\n",
      "val complex_of_polaire : polaire -> complex = <fun>\n",
      "val milieu : complex -> complex -> complex = <fun>\n",
      "val parallelogram : complex -> complex -> complex -> complex -> bool = <fun>\n"
     ]
    }
   ],
   "source": [
    "#use \"complex.ml\""
   ]
  },
  {
   "cell_type": "code",
   "execution_count": 188,
   "id": "46c0a9e8-21e4-4b9b-8a79-dd82217fd225",
   "metadata": {},
   "outputs": [
    {
     "data": {
      "text/plain": [
       "val z1 : complex = {re = 2.; im = 3.2}\n"
      ]
     },
     "execution_count": 188,
     "metadata": {},
     "output_type": "execute_result"
    },
    {
     "data": {
      "text/plain": [
       "val z2 : complex = {re = 1.2; im = 0.4}\n"
      ]
     },
     "execution_count": 188,
     "metadata": {},
     "output_type": "execute_result"
    }
   ],
   "source": [
    "let z1 = {\n",
    "    re=2.;\n",
    "    im=3.2\n",
    "};;\n",
    "\n",
    "let z2 = {\n",
    "    re=1.2;\n",
    "    im=0.4\n",
    "};;"
   ]
  },
  {
   "cell_type": "code",
   "execution_count": 189,
   "id": "c748b4ed-2bc6-4333-9d04-ec20c866e390",
   "metadata": {},
   "outputs": [
    {
     "data": {
      "text/plain": [
       "- : complex = {re = 2.; im = -3.2}\n"
      ]
     },
     "execution_count": 189,
     "metadata": {},
     "output_type": "execute_result"
    }
   ],
   "source": [
    "conjugue z1;;"
   ]
  },
  {
   "cell_type": "code",
   "execution_count": 190,
   "id": "8448ddbc-2954-449f-83b1-ad6444338e84",
   "metadata": {},
   "outputs": [
    {
     "data": {
      "text/plain": [
       "- : complex = {re = 3.2; im = 3.6}\n"
      ]
     },
     "execution_count": 190,
     "metadata": {},
     "output_type": "execute_result"
    }
   ],
   "source": [
    "z1 +~ z2;;"
   ]
  },
  {
   "cell_type": "code",
   "execution_count": 191,
   "id": "3fd0c6ec-13aa-4082-8db0-0c06eb0e5a23",
   "metadata": {},
   "outputs": [
    {
     "data": {
      "text/plain": [
       "- : complex = {re = 0.8; im = 2.80000000000000027}\n"
      ]
     },
     "execution_count": 191,
     "metadata": {},
     "output_type": "execute_result"
    }
   ],
   "source": [
    "z1 -~ z2;;"
   ]
  },
  {
   "cell_type": "code",
   "execution_count": 192,
   "id": "41d7ddaf-3486-4a92-bdae-242348666306",
   "metadata": {},
   "outputs": [
    {
     "data": {
      "text/plain": [
       "- : complex = {re = 1.11999999999999966; im = 4.64}\n"
      ]
     },
     "execution_count": 192,
     "metadata": {},
     "output_type": "execute_result"
    }
   ],
   "source": [
    "z1 *~ z2;;"
   ]
  },
  {
   "cell_type": "code",
   "execution_count": 193,
   "id": "586b55d7-cf3b-4acc-9866-d5526ca378f0",
   "metadata": {},
   "outputs": [
    {
     "data": {
      "text/plain": [
       "- : complex = {re = 2.3; im = 1.9}\n"
      ]
     },
     "execution_count": 193,
     "metadata": {},
     "output_type": "execute_result"
    }
   ],
   "source": [
    "z1 /~ z2;;"
   ]
  },
  {
   "cell_type": "code",
   "execution_count": 194,
   "id": "ffe4d226-1143-4e71-b183-64442346e6fe",
   "metadata": {
    "tags": []
   },
   "outputs": [
    {
     "data": {
      "text/plain": [
       "- : complex = {re = 1.6; im = 1.8}\n"
      ]
     },
     "execution_count": 194,
     "metadata": {},
     "output_type": "execute_result"
    }
   ],
   "source": [
    "milieu z1 z2;;"
   ]
  },
  {
   "cell_type": "code",
   "execution_count": 195,
   "id": "ca094988-7f57-4335-8cad-0b05f7b9301f",
   "metadata": {
    "tags": []
   },
   "outputs": [
    {
     "data": {
      "text/plain": [
       "- : float = 2.91204395571220775\n"
      ]
     },
     "execution_count": 195,
     "metadata": {},
     "output_type": "execute_result"
    }
   ],
   "source": [
    "dist z1 z2;;"
   ]
  },
  {
   "cell_type": "code",
   "execution_count": 196,
   "id": "6558c4b0-519b-471a-a5bb-b09b5f99c3e6",
   "metadata": {},
   "outputs": [
    {
     "data": {
      "text/plain": [
       "val e1 : polaire = {r = 1.; theta = 6.28318530717958623}\n"
      ]
     },
     "execution_count": 196,
     "metadata": {},
     "output_type": "execute_result"
    }
   ],
   "source": [
    "let e1 = {r=1.; theta=2.*.Float.pi}"
   ]
  },
  {
   "cell_type": "code",
   "execution_count": 197,
   "id": "03599a9d-459d-4193-9d91-2f29ac745319",
   "metadata": {},
   "outputs": [
    {
     "data": {
      "text/plain": [
       "- : complex = {re = 1.; im = -2.44929359829470641e-16}\n"
      ]
     },
     "execution_count": 197,
     "metadata": {},
     "output_type": "execute_result"
    }
   ],
   "source": [
    "complex_of_polaire e1"
   ]
  },
  {
   "cell_type": "code",
   "execution_count": 198,
   "id": "661e57b0-4081-4c29-92ca-69eb78abb38a",
   "metadata": {},
   "outputs": [
    {
     "data": {
      "text/plain": [
       "- : bool = false\n"
      ]
     },
     "execution_count": 198,
     "metadata": {},
     "output_type": "execute_result"
    }
   ],
   "source": [
    "parallelogram z1 z1 z2 z1"
   ]
  },
  {
   "cell_type": "code",
   "execution_count": 199,
   "id": "ab480a0a-4b67-4c5f-9907-0296fc374d3f",
   "metadata": {},
   "outputs": [
    {
     "data": {
      "text/plain": [
       "- : bool = true\n"
      ]
     },
     "execution_count": 199,
     "metadata": {},
     "output_type": "execute_result"
    }
   ],
   "source": [
    "parallelogram z1 z1 z2 z2"
   ]
  },
  {
   "cell_type": "code",
   "execution_count": 200,
   "id": "5894df8d-111b-4362-938b-3c9e14ba11e3",
   "metadata": {},
   "outputs": [
    {
     "data": {
      "text/plain": [
       "- : unit = ()\n"
      ]
     },
     "execution_count": 200,
     "metadata": {},
     "output_type": "execute_result"
    }
   ],
   "source": [
    "assert( module_of (complex_of_polaire e1) = e1.r )"
   ]
  }
 ],
 "metadata": {
  "kernelspec": {
   "display_name": "OCaml default",
   "language": "OCaml",
   "name": "ocaml-jupyter"
  },
  "language_info": {
   "codemirror_mode": "text/x-ocaml",
   "file_extension": ".ml",
   "mimetype": "text/x-ocaml",
   "name": "OCaml",
   "nbconverter_exporter": null,
   "pygments_lexer": "OCaml",
   "version": "4.08.1"
  }
 },
 "nbformat": 4,
 "nbformat_minor": 5
}
