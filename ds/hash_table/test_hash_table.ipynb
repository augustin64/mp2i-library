{
 "cells": [
  {
   "cell_type": "code",
   "execution_count": 27,
   "id": "80122109-97ff-4b48-9475-857cf0de2afc",
   "metadata": {},
   "outputs": [
    {
     "name": "stdout",
     "output_type": "stream",
     "text": [
      "type ('a, 'b) table_hachage = {\n",
      "  hache : 'a -> int;\n",
      "  donnees : ('a * 'b) list array;\n",
      "  largeur : int;\n",
      "}\n",
      "val creer : ('a -> int) -> int -> ('a, 'b) table_hachage = <fun>\n",
      "val recherche : ('a, 'b) table_hachage -> 'a -> bool = <fun>\n",
      "val element : ('a, 'b) table_hachage -> 'a -> 'b = <fun>\n",
      "val ajout : ('a, 'b) table_hachage -> 'a -> 'b -> unit = <fun>\n",
      "val suppr : ('a, 'b) table_hachage -> 'a -> unit = <fun>\n"
     ]
    }
   ],
   "source": [
    "#use \"hash_table.ml\""
   ]
  },
  {
   "cell_type": "code",
   "execution_count": 28,
   "id": "a7f0ef48-90c0-4dba-8891-875ddab07db8",
   "metadata": {},
   "outputs": [
    {
     "data": {
      "text/plain": [
       "val h : int -> int -> int = <fun>\n"
      ]
     },
     "execution_count": 28,
     "metadata": {},
     "output_type": "execute_result"
    }
   ],
   "source": [
    "let h w k =\n",
    "    k mod w;;"
   ]
  },
  {
   "cell_type": "markdown",
   "id": "1df62c62-6ac7-4212-9dc3-236104f49afb",
   "metadata": {},
   "source": [
    "## Cas de base"
   ]
  },
  {
   "cell_type": "code",
   "execution_count": 29,
   "id": "e23b6c58-5f31-48c3-a596-8ee75758ac77",
   "metadata": {},
   "outputs": [
    {
     "data": {
      "text/plain": [
       "val table : (int, '_weak4) table_hachage =\n",
       "  {hache = <fun>; donnees = [|[]; []; []; []; []|]; largeur = 5}\n"
      ]
     },
     "execution_count": 29,
     "metadata": {},
     "output_type": "execute_result"
    }
   ],
   "source": [
    "let table = creer (h 5) 5;;"
   ]
  },
  {
   "cell_type": "code",
   "execution_count": 30,
   "id": "98d6c72f-631e-4b0f-ae30-9959a34ba6d8",
   "metadata": {},
   "outputs": [
    {
     "data": {
      "text/plain": [
       "- : unit = ()\n"
      ]
     },
     "execution_count": 30,
     "metadata": {},
     "output_type": "execute_result"
    }
   ],
   "source": [
    "ajout table 8 \"huit\";;"
   ]
  },
  {
   "cell_type": "code",
   "execution_count": 31,
   "id": "1f20d71a-416b-4262-b0a7-345adcb3d526",
   "metadata": {},
   "outputs": [
    {
     "data": {
      "text/plain": [
       "- : unit = ()\n"
      ]
     },
     "execution_count": 31,
     "metadata": {},
     "output_type": "execute_result"
    }
   ],
   "source": [
    "ajout table 10 \"dix\";;"
   ]
  },
  {
   "cell_type": "code",
   "execution_count": 32,
   "id": "7924e4ea-1588-4de6-acdb-1de70e6b905d",
   "metadata": {},
   "outputs": [
    {
     "data": {
      "text/plain": [
       "- : (int, string) table_hachage =\n",
       "{hache = <fun>; donnees = [|[(10, \"dix\")]; []; []; [(8, \"huit\")]; []|];\n",
       " largeur = 5}\n"
      ]
     },
     "execution_count": 32,
     "metadata": {},
     "output_type": "execute_result"
    }
   ],
   "source": [
    "table;;"
   ]
  },
  {
   "cell_type": "code",
   "execution_count": 33,
   "id": "bc2ec1f2-a560-499a-97b5-30f6856cd559",
   "metadata": {},
   "outputs": [
    {
     "data": {
      "text/plain": [
       "- : string = \"dix\"\n"
      ]
     },
     "execution_count": 33,
     "metadata": {},
     "output_type": "execute_result"
    }
   ],
   "source": [
    "element table 10;;"
   ]
  },
  {
   "cell_type": "code",
   "execution_count": 34,
   "id": "bb0939f3-4a99-4e42-bee6-7288995757e6",
   "metadata": {},
   "outputs": [
    {
     "data": {
      "text/plain": [
       "- : unit = ()\n"
      ]
     },
     "execution_count": 34,
     "metadata": {},
     "output_type": "execute_result"
    }
   ],
   "source": [
    "suppr table 8;;"
   ]
  },
  {
   "cell_type": "code",
   "execution_count": 35,
   "id": "42671785-e59a-4604-82bf-9a965dfcf711",
   "metadata": {},
   "outputs": [
    {
     "data": {
      "text/plain": [
       "- : (int, string) table_hachage =\n",
       "{hache = <fun>; donnees = [|[(10, \"dix\")]; []; []; []; []|]; largeur = 5}\n"
      ]
     },
     "execution_count": 35,
     "metadata": {},
     "output_type": "execute_result"
    }
   ],
   "source": [
    "table;;"
   ]
  },
  {
   "cell_type": "code",
   "execution_count": 36,
   "id": "7d79860b-c54c-4f0f-9edc-924a618a837b",
   "metadata": {},
   "outputs": [
    {
     "data": {
      "text/plain": [
       "- : bool = true\n"
      ]
     },
     "execution_count": 36,
     "metadata": {},
     "output_type": "execute_result"
    }
   ],
   "source": [
    "recherche table 10;;"
   ]
  },
  {
   "cell_type": "code",
   "execution_count": 37,
   "id": "92b48c2b-3bd5-456a-b6c0-1869a3b3bfc2",
   "metadata": {},
   "outputs": [
    {
     "data": {
      "text/plain": [
       "- : bool = false\n"
      ]
     },
     "execution_count": 37,
     "metadata": {},
     "output_type": "execute_result"
    }
   ],
   "source": [
    "recherche table 5;;"
   ]
  },
  {
   "cell_type": "markdown",
   "id": "cfe16911-59ed-4edf-943e-6dd2f0bd16ea",
   "metadata": {},
   "source": [
    "## Cas limites"
   ]
  },
  {
   "cell_type": "code",
   "execution_count": 38,
   "id": "49c11844-a3f1-49aa-a007-eaef35259733",
   "metadata": {},
   "outputs": [
    {
     "ename": "error",
     "evalue": "runtime_error",
     "output_type": "error",
     "traceback": [
      "\u001b[31mException: Failure \"Clé existante\".\nRaised at file \"stdlib.ml\", line 29, characters 22-33\nCalled from file \"toplevel/toploop.ml\", line 208, characters 17-27\n\u001b[0m"
     ]
    }
   ],
   "source": [
    "ajout table 10 \"dix\";;"
   ]
  },
  {
   "cell_type": "code",
   "execution_count": 39,
   "id": "016cf428-f272-4d73-bdff-ce0811d87397",
   "metadata": {},
   "outputs": [
    {
     "ename": "error",
     "evalue": "runtime_error",
     "output_type": "error",
     "traceback": [
      "\u001b[31mException: Failure \"Element non trouvé\".\nRaised at file \"stdlib.ml\", line 29, characters 22-33\nCalled from file \"toplevel/toploop.ml\", line 208, characters 17-27\n\u001b[0m"
     ]
    }
   ],
   "source": [
    "element table 5;;"
   ]
  }
 ],
 "metadata": {
  "kernelspec": {
   "display_name": "OCaml default",
   "language": "OCaml",
   "name": "ocaml-jupyter"
  },
  "language_info": {
   "codemirror_mode": "text/x-ocaml",
   "file_extension": ".ml",
   "mimetype": "text/x-ocaml",
   "name": "OCaml",
   "nbconverter_exporter": null,
   "pygments_lexer": "OCaml",
   "version": "4.08.1"
  }
 },
 "nbformat": 4,
 "nbformat_minor": 5
}
