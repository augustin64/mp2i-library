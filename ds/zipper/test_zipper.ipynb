{
 "cells": [
  {
   "cell_type": "code",
   "execution_count": 16,
   "id": "97eb6c0b-cc7e-462d-a432-adba02312532",
   "metadata": {},
   "outputs": [
    {
     "name": "stdout",
     "output_type": "stream",
     "text": [
      "type 'a zipper = { left : 'a list; right : 'a list; }\n",
      "val move_right : 'a zipper -> 'a zipper = <fun>\n",
      "val move_left : 'a zipper -> 'a zipper = <fun>\n",
      "val move : int -> 'a zipper -> 'a zipper = <fun>\n",
      "val supprimer : 'a zipper -> 'a zipper = <fun>\n",
      "val ajouter : 'a -> 'a zipper -> 'a zipper = <fun>\n",
      "val convert : 'a zipper -> 'a list = <fun>\n"
     ]
    }
   ],
   "source": [
    "#use \"zipper.ml\";;"
   ]
  },
  {
   "cell_type": "code",
   "execution_count": 17,
   "id": "660764c0-c117-4566-858b-19e3669d2b6a",
   "metadata": {},
   "outputs": [
    {
     "data": {
      "text/plain": [
       "val z : int zipper = {left = [2; 1; 0]; right = [3; 4; 5; 6]}\n"
      ]
     },
     "execution_count": 17,
     "metadata": {},
     "output_type": "execute_result"
    }
   ],
   "source": [
    "let z = {\n",
    "    left = [2;1;0];\n",
    "    right = [3;4;5;6]\n",
    "};;"
   ]
  },
  {
   "cell_type": "markdown",
   "id": "e6d042bc-8592-43e7-862f-c807eee657eb",
   "metadata": {},
   "source": [
    "## Cas de base"
   ]
  },
  {
   "cell_type": "code",
   "execution_count": 18,
   "id": "2be4801f-faef-427b-87ec-bc71e3ea3a5b",
   "metadata": {},
   "outputs": [
    {
     "data": {
      "text/plain": [
       "- : int zipper = {left = [3; 2; 1; 0]; right = [4; 5; 6]}\n"
      ]
     },
     "execution_count": 18,
     "metadata": {},
     "output_type": "execute_result"
    }
   ],
   "source": [
    "move_right z;;"
   ]
  },
  {
   "cell_type": "code",
   "execution_count": 19,
   "id": "95625a17-1e10-47e9-a87c-3c8d2d8be39a",
   "metadata": {},
   "outputs": [
    {
     "data": {
      "text/plain": [
       "- : int zipper = {left = [1; 0]; right = [2; 3; 4; 5; 6]}\n"
      ]
     },
     "execution_count": 19,
     "metadata": {},
     "output_type": "execute_result"
    }
   ],
   "source": [
    "move_left z;;"
   ]
  },
  {
   "cell_type": "code",
   "execution_count": 20,
   "id": "c5921da3-087c-4539-81cd-9921895a32df",
   "metadata": {},
   "outputs": [
    {
     "data": {
      "text/plain": [
       "- : int zipper = {left = [5; 4; 3; 2; 1; 0]; right = [6]}\n"
      ]
     },
     "execution_count": 20,
     "metadata": {},
     "output_type": "execute_result"
    }
   ],
   "source": [
    "move 3 z;;"
   ]
  },
  {
   "cell_type": "code",
   "execution_count": 21,
   "id": "37a43eab-fee3-47cd-8b61-9268b0fecada",
   "metadata": {},
   "outputs": [
    {
     "data": {
      "text/plain": [
       "- : int zipper = {left = [2; 1; 0]; right = [4; 5; 6]}\n"
      ]
     },
     "execution_count": 21,
     "metadata": {},
     "output_type": "execute_result"
    }
   ],
   "source": [
    "supprimer z;;"
   ]
  },
  {
   "cell_type": "code",
   "execution_count": 22,
   "id": "2c9efbd9-24d1-4011-944d-03bbae1969bd",
   "metadata": {},
   "outputs": [
    {
     "data": {
      "text/plain": [
       "- : int zipper = {left = [2; 1; 0]; right = [9; 3; 4; 5; 6]}\n"
      ]
     },
     "execution_count": 22,
     "metadata": {},
     "output_type": "execute_result"
    }
   ],
   "source": [
    "ajouter 9 z;;"
   ]
  },
  {
   "cell_type": "code",
   "execution_count": 23,
   "id": "cc48a910-73a0-4c11-8e4c-ec987114bb15",
   "metadata": {},
   "outputs": [
    {
     "data": {
      "text/plain": [
       "- : int list = [0; 1; 2; 3; 4; 5; 6]\n"
      ]
     },
     "execution_count": 23,
     "metadata": {},
     "output_type": "execute_result"
    }
   ],
   "source": [
    "convert z;;"
   ]
  },
  {
   "cell_type": "markdown",
   "id": "35d8460b-56fe-4445-ad28-90760d9125d4",
   "metadata": {},
   "source": [
    "## Cas limite"
   ]
  },
  {
   "cell_type": "code",
   "execution_count": 24,
   "id": "f4c74bc7-b7ae-4a59-aa3b-eea3732f09ac",
   "metadata": {},
   "outputs": [
    {
     "data": {
      "text/plain": [
       "val z2 : 'a zipper = {left = []; right = []}\n"
      ]
     },
     "execution_count": 24,
     "metadata": {},
     "output_type": "execute_result"
    }
   ],
   "source": [
    "let z2 = {left=[]; right=[]};;"
   ]
  },
  {
   "cell_type": "code",
   "execution_count": 25,
   "id": "b697a9fb-07e4-410e-b36d-7b2f6bbd0470",
   "metadata": {},
   "outputs": [
    {
     "ename": "error",
     "evalue": "runtime_error",
     "output_type": "error",
     "traceback": [
      "\u001b[31mException: Failure \"pas d'élément à supprimer\".\nRaised at file \"stdlib.ml\", line 29, characters 22-33\nCalled from file \"toplevel/toploop.ml\", line 208, characters 17-27\n\u001b[0m"
     ]
    }
   ],
   "source": [
    "supprimer z2;;"
   ]
  },
  {
   "cell_type": "code",
   "execution_count": 26,
   "id": "f5b2b724-fb7d-4d8f-8421-6484e0c9a328",
   "metadata": {},
   "outputs": [
    {
     "ename": "error",
     "evalue": "runtime_error",
     "output_type": "error",
     "traceback": [
      "\u001b[31mException: Failure \"Déjà à droite\".\nRaised at file \"stdlib.ml\", line 29, characters 22-33\nCalled from file \"toplevel/toploop.ml\", line 208, characters 17-27\n\u001b[0m"
     ]
    }
   ],
   "source": [
    "move 5 z;;"
   ]
  },
  {
   "cell_type": "code",
   "execution_count": 27,
   "id": "99e35e12-072e-4230-8bec-d00433e78ce9",
   "metadata": {},
   "outputs": [
    {
     "ename": "error",
     "evalue": "runtime_error",
     "output_type": "error",
     "traceback": [
      "\u001b[31mException: Failure \"Déjà à gauche\".\nRaised at file \"stdlib.ml\", line 29, characters 22-33\nCalled from file \"zipper.ml\", line 17, characters 17-29\nCalled from file \"toplevel/toploop.ml\", line 208, characters 17-27\n\u001b[0m"
     ]
    }
   ],
   "source": [
    "move (-5) z;;"
   ]
  }
 ],
 "metadata": {
  "kernelspec": {
   "display_name": "OCaml default",
   "language": "OCaml",
   "name": "ocaml-jupyter"
  },
  "language_info": {
   "codemirror_mode": "text/x-ocaml",
   "file_extension": ".ml",
   "mimetype": "text/x-ocaml",
   "name": "OCaml",
   "nbconverter_exporter": null,
   "pygments_lexer": "OCaml",
   "version": "4.08.1"
  }
 },
 "nbformat": 4,
 "nbformat_minor": 5
}
